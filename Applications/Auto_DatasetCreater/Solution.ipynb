{
 "cells": [
  {
   "cell_type": "code",
   "execution_count": 4,
   "metadata": {},
   "outputs": [
    {
     "name": "stdout",
     "output_type": "stream",
     "text": [
      "['Datasets/NamebyCountry/names\\\\Czech.txt', 'Datasets/NamebyCountry/names\\\\Dutch.txt', 'Datasets/NamebyCountry/names\\\\English.txt', 'Datasets/NamebyCountry/names\\\\French.txt', 'Datasets/NamebyCountry/names\\\\German.txt', 'Datasets/NamebyCountry/names\\\\Greek.txt', 'Datasets/NamebyCountry/names\\\\Irish.txt', 'Datasets/NamebyCountry/names\\\\Italian.txt', 'Datasets/NamebyCountry/names\\\\Polish.txt', 'Datasets/NamebyCountry/names\\\\Portuguese.txt', 'Datasets/NamebyCountry/names\\\\Scottish.txt', 'Datasets/NamebyCountry/names\\\\Spanish.txt']\n",
      "Slusarski\n"
     ]
    }
   ],
   "source": [
    "from __future__ import unicode_literals, print_function, division\n",
    "from io import open\n",
    "import glob\n",
    "import os\n",
    "\n",
    "def findFiles(path): return glob.glob(path)\n",
    "\n",
    "print(findFiles('Datasets/NamebyCountry/names/*.txt'))\n",
    "\n",
    "import unicodedata\n",
    "import string\n",
    "\n",
    "all_letters = string.ascii_letters + \" .,;'\"\n",
    "n_letters = len(all_letters)\n",
    "\n",
    "# Turn a Unicode string to plain ASCII\n",
    "def unicodeToAscii(s):\n",
    "    return ''.join(\n",
    "        c for c in unicodedata.normalize('NFD', s)\n",
    "        if unicodedata.category(c) != 'Mn'\n",
    "        and c in all_letters\n",
    "    )\n",
    "\n",
    "# Build the category_lines dictionary, a list of names per language\n",
    "category_lines = {}\n",
    "all_categories = []\n",
    "\n",
    "# Read a file and split into lines\n",
    "def readLines(filename):\n",
    "    lines = open(filename, encoding='utf-8').read().strip().split('\\n')\n",
    "    return [unicodeToAscii(line) for line in lines]\n",
    "\n",
    "for filename in findFiles('Datasets/NamebyCountry/names/*.txt'):\n",
    "    category = os.path.splitext(os.path.basename(filename))[0]\n",
    "    all_categories.append(category)\n",
    "    lines = readLines(filename)\n",
    "    category_lines[category] = lines\n",
    "\n",
    "n_categories = len(all_categories)\n",
    "\n",
    "# We’ll end up with a dictionary of lists of names per language, {language: [names ...]}"
   ]
  },
  {
   "cell_type": "code",
   "execution_count": 5,
   "metadata": {},
   "outputs": [
    {
     "data": {
      "text/plain": [
       "['Czech',\n",
       " 'Dutch',\n",
       " 'English',\n",
       " 'French',\n",
       " 'German',\n",
       " 'Greek',\n",
       " 'Irish',\n",
       " 'Italian',\n",
       " 'Polish',\n",
       " 'Portuguese',\n",
       " 'Scottish',\n",
       " 'Spanish']"
      ]
     },
     "execution_count": 5,
     "metadata": {},
     "output_type": "execute_result"
    }
   ],
   "source": [
    "all_categories\n"
   ]
  },
  {
   "cell_type": "code",
   "execution_count": 6,
   "metadata": {},
   "outputs": [
    {
     "name": "stdout",
     "output_type": "stream",
     "text": [
      "['Adamczak', 'Adamczyk', 'Andrysiak', 'Auttenberg', 'Bartosz']\n"
     ]
    }
   ],
   "source": [
    "print(category_lines['Polish'][:5])"
   ]
  },
  {
   "cell_type": "code",
   "execution_count": 7,
   "metadata": {},
   "outputs": [
    {
     "name": "stdout",
     "output_type": "stream",
     "text": [
      "tensor([[0., 0., 0., 0., 0., 0., 0., 0., 0., 0., 0., 0., 0., 0., 0., 0., 0., 0.,\n",
      "         0., 0., 0., 0., 0., 0., 0., 0., 0., 0., 0., 0., 0., 0., 0., 0., 0., 1.,\n",
      "         0., 0., 0., 0., 0., 0., 0., 0., 0., 0., 0., 0., 0., 0., 0., 0., 0., 0.,\n",
      "         0., 0., 0.]])\n",
      "torch.Size([5, 1, 57])\n"
     ]
    }
   ],
   "source": [
    "#Turning Names into Tensors\n",
    "import torch\n",
    "# Find letter index from all_letters, e.g. \"a\" = 0\n",
    "def letterToIndex(letter):\n",
    "    return all_letters.find(letter)\n",
    "\n",
    "# Just for demonstration, turn a letter into a <1 x n_letters> Tensor\n",
    "def letterToTensor(letter):\n",
    "    tensor = torch.zeros(1, n_letters)\n",
    "    tensor[0][letterToIndex(letter)] = 1\n",
    "    return tensor\n",
    "\n",
    "# Turn a line into a <line_length x 1 x n_letters>,\n",
    "# or an array of one-hot letter vectors\n",
    "def lineToTensor(line):\n",
    "    tensor = torch.zeros(len(line), 1, n_letters)\n",
    "    for li, letter in enumerate(line):\n",
    "        letter_index = all_letters.find(letter)\n",
    "        tensor[li][0][letter_index] = 1\n",
    "    return tensor\n",
    "\n",
    "print(letterToTensor('J'))\n",
    "\n",
    "print(lineToTensor('Jones').size())"
   ]
  },
  {
   "cell_type": "code",
   "execution_count": 8,
   "metadata": {},
   "outputs": [],
   "source": [
    "#Creating the Network\n",
    "import torch.nn as nn\n",
    "\n",
    "class RNN(nn.Module):\n",
    "    def __init__(self, input_size, hidden_size, output_size):\n",
    "        super(RNN, self).__init__()\n",
    "\n",
    "        self.hidden_size = hidden_size\n",
    "\n",
    "        self.i2h = nn.Linear(input_size + hidden_size, hidden_size)\n",
    "        self.i2o = nn.Linear(input_size + hidden_size, output_size)\n",
    "        self.softmax = nn.LogSoftmax(dim=1)\n",
    "\n",
    "    def forward(self, input, hidden):\n",
    "        combined = torch.cat((input, hidden), 1)\n",
    "        hidden = self.i2h(combined)\n",
    "        output = self.i2o(combined)\n",
    "        output = self.softmax(output)\n",
    "        return output, hidden\n",
    "\n",
    "    def initHidden(self):\n",
    "        return torch.zeros(1, self.hidden_size)\n",
    "\n",
    "n_hidden = 128\n",
    "rnn = RNN(n_letters, n_hidden, n_categories)"
   ]
  },
  {
   "cell_type": "code",
   "execution_count": 9,
   "metadata": {},
   "outputs": [
    {
     "name": "stdout",
     "output_type": "stream",
     "text": [
      "tensor([[ 0.0088,  0.0130, -0.0079, -0.0821,  0.0038, -0.0507,  0.0173,  0.0288,\n",
      "         -0.0911,  0.0449,  0.0532,  0.0413, -0.0498,  0.0245,  0.0176, -0.0666,\n",
      "          0.0313,  0.0265,  0.0255, -0.0218,  0.1388, -0.0522,  0.0607,  0.0994,\n",
      "         -0.0560,  0.0305,  0.0677,  0.0629, -0.0384, -0.0258, -0.0127,  0.0929,\n",
      "         -0.0173, -0.0254,  0.0419, -0.0018, -0.0573,  0.1336,  0.0731, -0.0233,\n",
      "         -0.0537,  0.0234,  0.0569, -0.0618,  0.0233,  0.1189,  0.0360, -0.0170,\n",
      "         -0.0078, -0.0308,  0.0867,  0.0752,  0.0044,  0.1243,  0.0005, -0.0664,\n",
      "         -0.0588, -0.0311,  0.0654,  0.0599,  0.0008,  0.0040, -0.0136,  0.0108,\n",
      "         -0.0247, -0.0166,  0.0650,  0.0594,  0.0081, -0.0275, -0.0354, -0.0771,\n",
      "         -0.1066,  0.0317, -0.0249,  0.0433,  0.0155, -0.0888, -0.0854,  0.1413,\n",
      "         -0.0851, -0.0908,  0.0329,  0.0043, -0.0804, -0.0551,  0.0618,  0.0171,\n",
      "         -0.0639, -0.1042,  0.1070, -0.1260, -0.0989, -0.1083,  0.0308, -0.0062,\n",
      "         -0.0078,  0.0190, -0.0070, -0.0033, -0.0075,  0.0086, -0.0522,  0.0623,\n",
      "         -0.1078, -0.0779, -0.0146, -0.0217, -0.0611, -0.0050, -0.0280, -0.0748,\n",
      "          0.0439, -0.0189, -0.0286,  0.0604,  0.0327,  0.0449,  0.0062, -0.0973,\n",
      "          0.0944, -0.0285, -0.0070,  0.0144,  0.0367,  0.0011, -0.0081,  0.0796]],\n",
      "       grad_fn=<AddmmBackward>)\n"
     ]
    }
   ],
   "source": [
    "input = letterToTensor('A')\n",
    "hidden =torch.zeros(1, n_hidden)\n",
    "\n",
    "output, next_hidden = rnn(input, hidden)\n",
    "\n",
    "print(next_hidden)"
   ]
  },
  {
   "cell_type": "code",
   "execution_count": 10,
   "metadata": {},
   "outputs": [
    {
     "name": "stdout",
     "output_type": "stream",
     "text": [
      "tensor([[-2.4693, -2.3503, -2.4047, -2.4966, -2.5374, -2.5177, -2.4962, -2.4520,\n",
      "         -2.5566, -2.5823, -2.4192, -2.5643]], grad_fn=<LogSoftmaxBackward>)\n"
     ]
    }
   ],
   "source": [
    "input = lineToTensor('Albert')\n",
    "hidden = torch.zeros(1, n_hidden)\n",
    "#output is a <1 x n_categories> \n",
    "output, next_hidden = rnn(input[0], hidden)\n",
    "print(output)"
   ]
  },
  {
   "cell_type": "code",
   "execution_count": 11,
   "metadata": {},
   "outputs": [
    {
     "name": "stdout",
     "output_type": "stream",
     "text": [
      "('Dutch', 1)\n"
     ]
    }
   ],
   "source": [
    "#Preparing for Training\n",
    "def categoryFromOutput(output):\n",
    "    top_n, top_i = output.topk(1)\n",
    "    category_i = top_i[0].item()\n",
    "    return all_categories[category_i], category_i\n",
    "\n",
    "print(categoryFromOutput(output))"
   ]
  },
  {
   "cell_type": "code",
   "execution_count": 12,
   "metadata": {},
   "outputs": [
    {
     "name": "stdout",
     "output_type": "stream",
     "text": [
      "category = Scottish / line = Henderson\n",
      "category = English / line = Bramley\n",
      "category = Dutch / line = Hout\n",
      "category = French / line = Forestier\n",
      "category = Italian / line = Filippi\n",
      "category = Irish / line = Madaidhin\n",
      "category = Polish / line = Kava\n",
      "category = French / line = Victors\n",
      "category = Czech / line = Tomasek\n",
      "category = Polish / line = Skala\n"
     ]
    }
   ],
   "source": [
    "#training example (a name and its language):\n",
    "import torch.nn as nn\n",
    "import random\n",
    "from torch.autograd import Variable\n",
    "\n",
    "def random_training_pair():                                                                                                               \n",
    "    category = random.choice(all_categories)\n",
    "    line = random.choice(category_lines[category])\n",
    "    category_tensor = Variable(torch.LongTensor([all_categories.index(category)]))\n",
    "    line_tensor = Variable(lineToTensor(line))\n",
    "    return category, line, category_tensor, line_tensor\n",
    "\n",
    "for i in range(10):\n",
    "    category, line, category_tensor, line_tensor = random_training_pair()\n",
    "    print('category =', category, '/ line =', line)\n"
   ]
  },
  {
   "cell_type": "code",
   "execution_count": 13,
   "metadata": {},
   "outputs": [],
   "source": [
    "#loss function nn.NLLLoss is appropriate, since the last layer of the RNN is nn.LogSoftmax.\n",
    "criterion = nn.NLLLoss()"
   ]
  },
  {
   "cell_type": "code",
   "execution_count": 14,
   "metadata": {},
   "outputs": [],
   "source": [
    "learning_rate = 0.005 # If you set this too high, it might explode. If too low, it might not learn\n",
    "optimizer = torch.optim.SGD(rnn.parameters(), lr=learning_rate)\n",
    "\n",
    "def train(category_tensor, line_tensor):\n",
    "    hidden = rnn.initHidden()\n",
    "\n",
    "    rnn.zero_grad()\n",
    "\n",
    "    for i in range(line_tensor.size()[0]):\n",
    "        output, hidden = rnn(line_tensor[i], hidden)\n",
    "\n",
    "    loss = criterion(output, category_tensor)\n",
    "    loss.backward()\n",
    "\n",
    "    # Add parameters' gradients to their values, multiplied by learning rate\n",
    "    for p in rnn.parameters():\n",
    "        p.data.add_(-learning_rate, p.grad.data)\n",
    "\n",
    "    return output, loss.item()"
   ]
  },
  {
   "cell_type": "code",
   "execution_count": 15,
   "metadata": {},
   "outputs": [
    {
     "name": "stderr",
     "output_type": "stream",
     "text": [
      "..\\torch\\csrc\\utils\\python_arg_parser.cpp:756: UserWarning: This overload of add_ is deprecated:\n",
      "\tadd_(Number alpha, Tensor other)\n",
      "Consider using one of the following signatures instead:\n",
      "\tadd_(Tensor other, *, Number alpha)\n"
     ]
    },
    {
     "name": "stdout",
     "output_type": "stream",
     "text": [
      "5000 2% (0m 11s) 2.0949 Araujo / Italian ✗ (Portuguese)\n",
      "10000 5% (0m 20s) 2.3685 Oxenham / Scottish ✗ (English)\n",
      "15000 7% (0m 30s) 1.3351 Eoin / Irish ✓\n",
      "20000 10% (0m 39s) 2.3196 Spijker / German ✗ (Dutch)\n",
      "25000 12% (0m 50s) 1.9336 Hout / French ✗ (Dutch)\n",
      "30000 15% (1m 0s) 1.7748 Thom / Scottish ✗ (English)\n",
      "35000 17% (1m 10s) 0.3592 Veen / Dutch ✓\n",
      "40000 20% (1m 19s) 0.3998 Nepi / Italian ✓\n",
      "45000 22% (1m 28s) 0.8083 Gehring / German ✓\n",
      "50000 25% (1m 38s) 1.4084 Barros / Greek ✗ (Portuguese)\n",
      "55000 27% (1m 47s) 1.6459 Mersinias / Portuguese ✗ (Greek)\n",
      "60000 30% (1m 58s) 2.1226 Samson / Scottish ✗ (Dutch)\n",
      "65000 32% (2m 7s) 0.1637 Jamieson / Scottish ✓\n",
      "70000 35% (2m 17s) 1.3565 Hadfield / Scottish ✗ (English)\n",
      "75000 37% (2m 26s) 0.8709 Rios / Portuguese ✓\n",
      "80000 40% (2m 37s) 0.0142 O'Hannigain / Irish ✓\n",
      "85000 42% (2m 46s) 1.3454 Laird / French ✗ (English)\n",
      "90000 45% (2m 56s) 0.0591 D'onofrio / Italian ✓\n",
      "95000 47% (3m 6s) 2.0100 Mojjis / Dutch ✗ (Czech)\n",
      "100000 50% (3m 16s) 2.9121 Desrochers / Greek ✗ (French)\n",
      "105000 52% (3m 25s) 1.1140 Soukup / Czech ✓\n",
      "110000 55% (3m 35s) 0.9269 Daviau / Greek ✗ (French)\n",
      "115000 57% (3m 45s) 0.3484 Sokolofsky / Polish ✓\n",
      "120000 60% (3m 54s) 0.7145 Hodoval / Czech ✓\n",
      "125000 62% (4m 4s) 0.1137 Rooiakker / Dutch ✓\n",
      "130000 65% (4m 13s) 0.0176 Williamson / Scottish ✓\n",
      "135000 67% (4m 22s) 1.3199 Hanraets / Dutch ✓\n",
      "140000 70% (4m 32s) 0.5207 Paulissen / Dutch ✓\n",
      "145000 72% (4m 41s) 2.4386 Kennedy / Dutch ✗ (Scottish)\n",
      "150000 75% (4m 50s) 1.6162 Rosenfeld / Scottish ✗ (German)\n",
      "155000 77% (4m 59s) 1.1737 Siskin / German ✓\n",
      "160000 80% (5m 8s) 0.0202 Wyrzyk / Polish ✓\n",
      "165000 82% (5m 18s) 1.1666 Serafim / Portuguese ✓\n",
      "170000 85% (5m 27s) 0.3898 Tinsley / English ✓\n",
      "175000 87% (5m 36s) 0.0367 Karahalios / Greek ✓\n",
      "180000 90% (5m 46s) 0.4525 Sutherland / Scottish ✓\n",
      "185000 92% (5m 55s) 2.3449 Favero / Spanish ✗ (Italian)\n",
      "190000 95% (6m 4s) 0.8394 Melo / Portuguese ✓\n",
      "195000 97% (6m 13s) 0.0068 Bukoski / Polish ✓\n",
      "200000 100% (6m 23s) 0.0106 Abbatelli / Italian ✓\n"
     ]
    }
   ],
   "source": [
    "import time\n",
    "import math\n",
    "\n",
    "n_iters = 200000\n",
    "print_every = 5000\n",
    "plot_every = 1000\n",
    "\n",
    "\n",
    "\n",
    "# Keep track of losses for plotting\n",
    "current_loss = 0\n",
    "all_losses = []\n",
    "\n",
    "def timeSince(since):\n",
    "    now = time.time()\n",
    "    s = now - since\n",
    "    m = math.floor(s / 60)\n",
    "    s -= m * 60\n",
    "    return '%dm %ds' % (m, s)\n",
    "\n",
    "start = time.time()\n",
    "\n",
    "for iter in range(1, n_iters + 1):\n",
    "    category, line, category_tensor, line_tensor = random_training_pair()\n",
    "    output, loss = train(category_tensor, line_tensor)\n",
    "    current_loss += loss\n",
    "\n",
    "    # Print iter number, loss, name and guess\n",
    "    if iter % print_every == 0:\n",
    "        guess, guess_i = categoryFromOutput(output)\n",
    "        correct = '✓' if guess == category else '✗ (%s)' % category\n",
    "        print('%d %d%% (%s) %.4f %s / %s %s' % (iter, iter / n_iters * 100, timeSince(start), loss, line, guess, correct))\n",
    "\n",
    "    # Add current loss avg to list of losses\n",
    "    if iter % plot_every == 0:\n",
    "        all_losses.append(current_loss / plot_every)\n",
    "        current_loss = 0"
   ]
  },
  {
   "cell_type": "code",
   "execution_count": 18,
   "metadata": {},
   "outputs": [
    {
     "data": {
      "text/plain": [
       "[<matplotlib.lines.Line2D at 0x297588993c8>]"
      ]
     },
     "execution_count": 18,
     "metadata": {},
     "output_type": "execute_result"
    },
    {
     "data": {
      "image/png": "[encoded data removed]",
      "text/plain": [
       "<Figure size 432x288 with 1 Axes>"
      ]
     },
     "metadata": {
      "needs_background": "light"
     },
     "output_type": "display_data"
    }
   ],
   "source": [
    "import matplotlib.pyplot as plt\n",
    "import matplotlib.ticker as ticker\n",
    "\n",
    "plt.figure()\n",
    "plt.plot(all_losses)"
   ]
  },
  {
   "cell_type": "code",
   "execution_count": 19,
   "metadata": {},
   "outputs": [
    {
     "name": "stdout",
     "output_type": "stream",
     "text": [
      "LN1FN1\n",
      "First Name: Andrzej | Last Name: klocek\n",
      "male\n"
     ]
    }
   ],
   "source": [
    "from namsorclient import NamsorClient\n",
    "from namsorclient.country_codes import CountryCodes\n",
    "from namsorclient.request_objects import *\n",
    "\n",
    "# Create an instance of NamsorClient\n",
    "client = NamsorClient(\"\")\n",
    "\n",
    "res = client.parseName(\"klocek Andrzej\")\n",
    "gender = client.gender(res.first_last_name.first_name,res.first_last_name.last_name).likely_gender\n",
    "print(res.first_last_name)\n",
    "print(gender)"
   ]
  },
  {
   "cell_type": "code",
   "execution_count": 46,
   "metadata": {},
   "outputs": [
    {
     "data": {
      "image/png": "[encoded data removed]",
      "text/plain": [
       "<Figure size 432x288 with 2 Axes>"
      ]
     },
     "metadata": {
      "needs_background": "light"
     },
     "output_type": "display_data"
    }
   ],
   "source": [
    "# Keep track of correct guesses in a confusion matrix\n",
    "confusion = torch.zeros(n_categories, n_categories)\n",
    "n_confusion = 10000\n",
    "\n",
    "# Just return an output given a line\n",
    "def evaluate(line_tensor):\n",
    "    hidden = rnn.initHidden()\n",
    "\n",
    "    for i in range(line_tensor.size()[0]):\n",
    "        output, hidden = rnn(line_tensor[i], hidden)\n",
    "\n",
    "    return output\n",
    "\n",
    "# Go through a bunch of examples and record which are correctly guessed\n",
    "for i in range(n_confusion):\n",
    "    category, line, category_tensor, line_tensor = random_training_pair()\n",
    "    output = evaluate(line_tensor)\n",
    "    guess, guess_i = categoryFromOutput(output)\n",
    "    category_i = all_categories.index(category)\n",
    "    confusion[category_i][guess_i] += 1\n",
    "\n",
    "# Normalize by dividing every row by its sum\n",
    "for i in range(n_categories):\n",
    "    confusion[i] = confusion[i] / confusion[i].sum()\n",
    "\n",
    "# Set up plot\n",
    "fig = plt.figure()\n",
    "ax = fig.add_subplot(111)\n",
    "cax = ax.matshow(confusion.numpy())\n",
    "fig.colorbar(cax)\n",
    "\n",
    "# Set up axes\n",
    "ax.set_xticklabels([''] + all_categories, rotation=90)\n",
    "ax.set_yticklabels([''] + all_categories)\n",
    "\n",
    "# Force label at every tick\n",
    "ax.xaxis.set_major_locator(ticker.MultipleLocator(1))\n",
    "ax.yaxis.set_major_locator(ticker.MultipleLocator(1))\n",
    "\n",
    "# sphinx_gallery_thumbnail_number = 2\n",
    "plt.show()"
   ]
  },
  {
   "cell_type": "code",
   "execution_count": 56,
   "metadata": {},
   "outputs": [],
   "source": [
    "def predict(input_line, n_predictions=1):# only top \n",
    "    print('\\n> %s' % input_line)\n",
    "    with torch.no_grad():\n",
    "        output = evaluate(lineToTensor(input_line))\n",
    "\n",
    "        # Get top N categories\n",
    "        topv, topi = output.topk(n_predictions, 1, True)\n",
    "        predictions = []\n",
    "\n",
    "        for i in range(n_predictions):\n",
    "            value = topv[0][i].item()\n",
    "            category_index = topi[0][i].item()\n",
    "            print('(%.2f) %s' % (value, all_categories[category_index]))\n",
    "            predictions.append([value, all_categories[category_index]])\n"
   ]
  },
  {
   "cell_type": "code",
   "execution_count": 57,
   "metadata": {},
   "outputs": [
    {
     "name": "stdout",
     "output_type": "stream",
     "text": [
      "LN1FN1\n",
      "First Name : Malgorzata\n",
      "Last Name : Rutkowska\n",
      "Gender : female\n",
      "\n",
      "> Rutkowska\n",
      "(-0.30) Polish\n",
      "None\n"
     ]
    }
   ],
   "source": [
    "# Testing \n",
    "name = 'Rutkowska Malgorzata'\n",
    "FullName= client.parseName(name)\n",
    "gender = client.gender(FullName.first_last_name.first_name,FullName.first_last_name.last_name).likely_gender\n",
    "print('First Name :',FullName.first_last_name.first_name)\n",
    "print('Last Name :',FullName.first_last_name.last_name)\n",
    "print('Gender :',gender)\n",
    "print(predict(FullName.first_last_name.last_name))"
   ]
  },
  {
   "cell_type": "code",
   "execution_count": null,
   "metadata": {},
   "outputs": [],
   "source": []
  },
  {
   "cell_type": "code",
   "execution_count": null,
   "metadata": {},
   "outputs": [],
   "source": []
  }
 ],
 "metadata": {
  "kernelspec": {
   "display_name": "Python 3",
   "language": "python",
   "name": "python3"
  },
  "language_info": {
   "codemirror_mode": {
    "name": "ipython",
    "version": 3
   },
   "file_extension": ".py",
   "mimetype": "text/x-python",
   "name": "python",
   "nbconvert_exporter": "python",
   "pygments_lexer": "ipython3",
   "version": "3.7.4"
  }
 },
 "nbformat": 4,
 "nbformat_minor": 2
}
